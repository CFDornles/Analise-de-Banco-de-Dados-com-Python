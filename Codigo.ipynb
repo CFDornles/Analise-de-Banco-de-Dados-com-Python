{
 "cells": [
  {
   "cell_type": "markdown",
   "metadata": {},
   "source": [
    "# Análise de Dados com Python\n",
    "\n",
    "### Desafio:\n",
    "\n",
    "Você trabalha em uma empresa de telecom e tem clientes de vários serviços diferentes, entre os principais: internet e telefone.\n",
    "\n",
    "O problema é que, analisando o histórico dos clientes dos últimos anos, você percebeu que a empresa está com Churn de mais de 26% dos clientes.\n",
    "\n",
    "Isso representa uma perda de milhões para a empresa.\n",
    "\n",
    "O que a empresa precisa fazer para resolver isso?\n",
    "\n",
    "Base de Dados: https://drive.google.com/drive/folders/1T7D0BlWkNuy_MDpUHuBG44kT80EmRYIs?usp=sharing <br>\n",
    "Link Original do Kaggle: https://www.kaggle.com/radmirzosimov/telecom-users-dataset"
   ]
  },
  {
   "cell_type": "code",
   "execution_count": null,
   "metadata": {},
   "outputs": [],
   "source": [
    "# Passo 1: Importar a base de dados\n",
    "import pandas as pd\n",
    "\n",
    "tabela = pd.read_csv(\"telecom_users.csv\")\n",
    "\n",
    "# Passo 2: Visualizar a base de dados\n",
    "tabela = tabela.drop(\"Unnamed: 0\", axis=1)\n",
    "display(tabela)\n",
    "# - Entender quais as informações tão disponíveis\n",
    "# - Descobrir as cagadas da base de dados"
   ]
  },
  {
   "cell_type": "code",
   "execution_count": null,
   "metadata": {},
   "outputs": [],
   "source": [
    "# Passo 3: Tratamento de dados\n",
    "# - Valores que estão reconhecidos de forma errada\n",
    "tabela[\"TotalGasto\"] = pd.to_numeric(tabela[\"TotalGasto\"], errors=\"coerce\")\n",
    "\n",
    "# - Valores vazios\n",
    "# deletando as colunas vazias\n",
    "# axis = 0 _> linha ou axis = 1 _> coluna\n",
    "tabela = tabela.dropna(how=\"all\", axis=1)\n",
    "# deletando as linhas vazias\n",
    "tabela = tabela.dropna(how=\"any\", axis=0)\n",
    "\n",
    "print(tabela.info())"
   ]
  },
  {
   "cell_type": "code",
   "execution_count": null,
   "metadata": {},
   "outputs": [],
   "source": [
    "# Passo 4: Análise Inicial\n",
    "# Como estão os nossos cancelamentos?\n",
    "print(tabela[\"Churn\"].value_counts())\n",
    "print(tabela[\"Churn\"].value_counts(normalize=True).map(\"{:.1%}\".format))"
   ]
  },
  {
   "cell_type": "code",
   "execution_count": null,
   "metadata": {
    "scrolled": true
   },
   "outputs": [],
   "source": [
    "# Passo 5: Análise Mais completa\n",
    "# comparar cada coluna da minha tabela com a coluna de cancelamento\n",
    "import plotly.express as px\n",
    "\n",
    "# etapa 1: criar o gráfico\n",
    "for coluna in tabela.columns:\n",
    "    # para edições nos gráficos: https://plotly.com/python/histograms/\n",
    "    # para mudar a cor do gráfico , color_discrete_sequence=[\"blue\", \"green\"]\n",
    "    grafico = px.histogram(tabela, x=coluna, color=\"Churn\", text_auto=True)\n",
    "    # etapa 2: exibir o gráfico\n",
    "    grafico.show()"
   ]
  },
  {
   "cell_type": "code",
   "execution_count": null,
   "metadata": {
    "scrolled": false
   },
   "outputs": [],
   "source": [
    "!pip install plotly"
   ]
  }
 ],
 "metadata": {
  "kernelspec": {
   "display_name": "Python 3 (ipykernel)",
   "language": "python",
   "name": "python3"
  },
  "language_info": {
   "codemirror_mode": {
    "name": "ipython",
    "version": 3
   },
   "file_extension": ".py",
   "mimetype": "text/x-python",
   "name": "python",
   "nbconvert_exporter": "python",
   "pygments_lexer": "ipython3",
   "version": "3.9.7"
  }
 },
 "nbformat": 4,
 "nbformat_minor": 4
}
